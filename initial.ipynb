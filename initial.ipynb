{
 "cells": [
  {
   "cell_type": "code",
   "execution_count": 1,
   "id": "426ed832",
   "metadata": {},
   "outputs": [
    {
     "name": "stdout",
     "output_type": "stream",
     "text": [
      "test\n"
     ]
    }
   ],
   "source": [
    "print(\"test\")"
   ]
  },
  {
   "cell_type": "code",
   "execution_count": null,
   "id": "e99929b0",
   "metadata": {},
   "outputs": [
    {
     "name": "stderr",
     "output_type": "stream",
     "text": [
      "Downloading...\n",
      "From: https://drive.google.com/uc?id=1ENSzYg3oMLSTqqzeB3pnD0GtGTLYdn1E\n",
      "To: c:\\Users\\josiw\\Documents\\unibertsitatea\\3.o\\2.o cuatri\\DeepLearning\\anomaly-detection\\dataset.zip\n",
      "100%|██████████| 1.95M/1.95M [00:00<00:00, 10.2MB/s]"
     ]
    },
    {
     "name": "stdout",
     "output_type": "stream",
     "text": [
      "✅ Extracted to: ./data\n"
     ]
    },
    {
     "name": "stderr",
     "output_type": "stream",
     "text": [
      "\n"
     ]
    }
   ],
   "source": [
    "import gdown\n",
    "import zipfile\n",
    "import os\n",
    "\n",
    "file_id = '1ENSzYg3oMLSTqqzeB3pnD0GtGTLYdn1E'\n",
    "download_url = f'https://drive.google.com/uc?id={file_id}'\n",
    "\n",
    "# Output zip filename\n",
    "output_zip = 'dataset.zip'\n",
    "\n",
    "# Download from Google Drive\n",
    "gdown.download(download_url, output_zip, quiet=False)\n",
    "\n",
    "# Unzip the file\n",
    "extract_path = './data'  # You can change this path as needed\n",
    "os.makedirs(extract_path, exist_ok=True)\n",
    "\n",
    "with zipfile.ZipFile(output_zip, 'r') as zip_ref:\n",
    "    zip_ref.extractall(extract_path)\n",
    "\n",
    "print(f\"Extracted to: {extract_path}\")\n"
   ]
  },
  {
   "cell_type": "code",
   "execution_count": 9,
   "id": "89e2e1fa",
   "metadata": {},
   "outputs": [],
   "source": [
    "import pandas as pd"
   ]
  },
  {
   "cell_type": "markdown",
   "id": "c4cc681b",
   "metadata": {},
   "source": [
    "# EDA Process"
   ]
  },
  {
   "cell_type": "code",
   "execution_count": 10,
   "id": "3036f60d",
   "metadata": {},
   "outputs": [],
   "source": [
    "df = pd.read_csv(\"./data/BTCUSDT_1h.csv\")"
   ]
  },
  {
   "cell_type": "code",
   "execution_count": 11,
   "id": "a92079d8",
   "metadata": {},
   "outputs": [
    {
     "data": {
      "text/html": [
       "<div>\n",
       "<style scoped>\n",
       "    .dataframe tbody tr th:only-of-type {\n",
       "        vertical-align: middle;\n",
       "    }\n",
       "\n",
       "    .dataframe tbody tr th {\n",
       "        vertical-align: top;\n",
       "    }\n",
       "\n",
       "    .dataframe thead th {\n",
       "        text-align: right;\n",
       "    }\n",
       "</style>\n",
       "<table border=\"1\" class=\"dataframe\">\n",
       "  <thead>\n",
       "    <tr style=\"text-align: right;\">\n",
       "      <th></th>\n",
       "      <th>open</th>\n",
       "      <th>high</th>\n",
       "      <th>low</th>\n",
       "      <th>close</th>\n",
       "      <th>volume</th>\n",
       "      <th>close_time</th>\n",
       "      <th>quote</th>\n",
       "      <th>takers_buy_base</th>\n",
       "      <th>takers_buy_quote</th>\n",
       "    </tr>\n",
       "  </thead>\n",
       "  <tbody>\n",
       "    <tr>\n",
       "      <th>0</th>\n",
       "      <td>4261.48</td>\n",
       "      <td>4313.62</td>\n",
       "      <td>4261.32</td>\n",
       "      <td>4308.83</td>\n",
       "      <td>47.181009</td>\n",
       "      <td>2017-08-16 23:59:59.999000-05:00</td>\n",
       "      <td>202366.138393</td>\n",
       "      <td>35.160503</td>\n",
       "      <td>150952.477943</td>\n",
       "    </tr>\n",
       "    <tr>\n",
       "      <th>1</th>\n",
       "      <td>4308.83</td>\n",
       "      <td>4328.69</td>\n",
       "      <td>4291.37</td>\n",
       "      <td>4315.32</td>\n",
       "      <td>23.234916</td>\n",
       "      <td>2017-08-17 00:59:59.999000-05:00</td>\n",
       "      <td>100304.823567</td>\n",
       "      <td>21.448071</td>\n",
       "      <td>92608.279728</td>\n",
       "    </tr>\n",
       "    <tr>\n",
       "      <th>2</th>\n",
       "      <td>4330.29</td>\n",
       "      <td>4345.45</td>\n",
       "      <td>4309.37</td>\n",
       "      <td>4324.35</td>\n",
       "      <td>7.229691</td>\n",
       "      <td>2017-08-17 01:59:59.999000-05:00</td>\n",
       "      <td>31282.312670</td>\n",
       "      <td>4.802861</td>\n",
       "      <td>20795.317224</td>\n",
       "    </tr>\n",
       "    <tr>\n",
       "      <th>3</th>\n",
       "      <td>4316.62</td>\n",
       "      <td>4349.99</td>\n",
       "      <td>4287.41</td>\n",
       "      <td>4349.99</td>\n",
       "      <td>4.443249</td>\n",
       "      <td>2017-08-17 02:59:59.999000-05:00</td>\n",
       "      <td>19241.058300</td>\n",
       "      <td>2.602292</td>\n",
       "      <td>11291.347015</td>\n",
       "    </tr>\n",
       "    <tr>\n",
       "      <th>4</th>\n",
       "      <td>4333.32</td>\n",
       "      <td>4377.85</td>\n",
       "      <td>4333.32</td>\n",
       "      <td>4360.69</td>\n",
       "      <td>0.972807</td>\n",
       "      <td>2017-08-17 03:59:59.999000-05:00</td>\n",
       "      <td>4239.503586</td>\n",
       "      <td>0.814655</td>\n",
       "      <td>3552.746817</td>\n",
       "    </tr>\n",
       "  </tbody>\n",
       "</table>\n",
       "</div>"
      ],
      "text/plain": [
       "      open     high      low    close     volume  \\\n",
       "0  4261.48  4313.62  4261.32  4308.83  47.181009   \n",
       "1  4308.83  4328.69  4291.37  4315.32  23.234916   \n",
       "2  4330.29  4345.45  4309.37  4324.35   7.229691   \n",
       "3  4316.62  4349.99  4287.41  4349.99   4.443249   \n",
       "4  4333.32  4377.85  4333.32  4360.69   0.972807   \n",
       "\n",
       "                         close_time          quote  takers_buy_base  \\\n",
       "0  2017-08-16 23:59:59.999000-05:00  202366.138393        35.160503   \n",
       "1  2017-08-17 00:59:59.999000-05:00  100304.823567        21.448071   \n",
       "2  2017-08-17 01:59:59.999000-05:00   31282.312670         4.802861   \n",
       "3  2017-08-17 02:59:59.999000-05:00   19241.058300         2.602292   \n",
       "4  2017-08-17 03:59:59.999000-05:00    4239.503586         0.814655   \n",
       "\n",
       "   takers_buy_quote  \n",
       "0     150952.477943  \n",
       "1      92608.279728  \n",
       "2      20795.317224  \n",
       "3      11291.347015  \n",
       "4       3552.746817  "
      ]
     },
     "execution_count": 11,
     "metadata": {},
     "output_type": "execute_result"
    }
   ],
   "source": [
    "df.head()"
   ]
  },
  {
   "cell_type": "code",
   "execution_count": 12,
   "id": "81943e88",
   "metadata": {},
   "outputs": [
    {
     "data": {
      "text/plain": [
       "(38461, 9)"
      ]
     },
     "execution_count": 12,
     "metadata": {},
     "output_type": "execute_result"
    }
   ],
   "source": [
    "df.shape"
   ]
  }
 ],
 "metadata": {
  "kernelspec": {
   "display_name": "Python 3",
   "language": "python",
   "name": "python3"
  },
  "language_info": {
   "codemirror_mode": {
    "name": "ipython",
    "version": 3
   },
   "file_extension": ".py",
   "mimetype": "text/x-python",
   "name": "python",
   "nbconvert_exporter": "python",
   "pygments_lexer": "ipython3",
   "version": "3.12.10"
  }
 },
 "nbformat": 4,
 "nbformat_minor": 5
}
