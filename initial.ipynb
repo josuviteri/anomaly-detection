{
 "cells": [
  {
   "cell_type": "code",
   "execution_count": 1,
   "id": "426ed832",
   "metadata": {},
   "outputs": [
    {
     "name": "stdout",
     "output_type": "stream",
     "text": [
      "test\n"
     ]
    }
   ],
   "source": [
    "print(\"test\")"
   ]
  },
  {
   "cell_type": "code",
   "execution_count": 3,
   "id": "e99929b0",
   "metadata": {},
   "outputs": [
    {
     "name": "stderr",
     "output_type": "stream",
     "text": [
      "Downloading...\n",
      "From (original): https://drive.google.com/uc?id=1KYjUd8mTwSp0B_BRtVnuWoatvJf9J0jM\n",
      "From (redirected): https://drive.google.com/uc?id=1KYjUd8mTwSp0B_BRtVnuWoatvJf9J0jM&confirm=t&uuid=6b65b9e4-0899-4c36-b8b0-f30e34d4606d\n",
      "To: c:\\Users\\josiw\\Documents\\unibertsitatea\\3.o\\2.o cuatri\\DeepLearning\\fraud-detection\\dataset.zip\n",
      "100%|██████████| 186M/186M [00:07<00:00, 26.3MB/s] \n"
     ]
    },
    {
     "name": "stdout",
     "output_type": "stream",
     "text": [
      "✅ Extracted to: ./data\n"
     ]
    }
   ],
   "source": [
    "import gdown\n",
    "import zipfile\n",
    "import os\n",
    "\n",
    "# Google Drive File ID\n",
    "file_id = '1KYjUd8mTwSp0B_BRtVnuWoatvJf9J0jM'\n",
    "download_url = f'https://drive.google.com/uc?id={file_id}'\n",
    "\n",
    "# Output zip filename\n",
    "output_zip = 'dataset.zip'\n",
    "\n",
    "# Download from Google Drive\n",
    "gdown.download(download_url, output_zip, quiet=False)\n",
    "\n",
    "# Unzip the file\n",
    "extract_path = './data'  # You can change this path as needed\n",
    "os.makedirs(extract_path, exist_ok=True)\n",
    "\n",
    "with zipfile.ZipFile(output_zip, 'r') as zip_ref:\n",
    "    zip_ref.extractall(extract_path)\n",
    "\n",
    "print(f\"✅ Extracted to: {extract_path}\")\n"
   ]
  }
 ],
 "metadata": {
  "kernelspec": {
   "display_name": "Python 3",
   "language": "python",
   "name": "python3"
  },
  "language_info": {
   "codemirror_mode": {
    "name": "ipython",
    "version": 3
   },
   "file_extension": ".py",
   "mimetype": "text/x-python",
   "name": "python",
   "nbconvert_exporter": "python",
   "pygments_lexer": "ipython3",
   "version": "3.12.10"
  }
 },
 "nbformat": 4,
 "nbformat_minor": 5
}
