{
 "cells": [
  {
   "cell_type": "code",
   "execution_count": 1,
   "id": "74e0f05d",
   "metadata": {},
   "outputs": [],
   "source": [
    "import pandas as pd\n",
    "import numpy as np\n",
    "import torch\n",
    "from sklearn.preprocessing import MinMaxScaler\n",
    "import matplotlib.pyplot as plt\n",
    "from torch.utils.data import DataLoader, TensorDataset\n",
    "from sklearn.model_selection import train_test_split\n"
   ]
  },
  {
   "cell_type": "code",
   "execution_count": 2,
   "id": "3036f60d",
   "metadata": {},
   "outputs": [],
   "source": [
    "df = pd.read_csv(\"./data/BTCUSDT_1h.csv\")"
   ]
  },
  {
   "cell_type": "code",
   "execution_count": 3,
   "id": "77d5b9bf",
   "metadata": {},
   "outputs": [],
   "source": [
    "df = df.sort_values('close_time')\n",
    "features = ['open', 'high', 'low', 'close', 'volume']\n",
    "data = df[features].values"
   ]
  },
  {
   "cell_type": "code",
   "execution_count": 4,
   "id": "84de69aa",
   "metadata": {},
   "outputs": [],
   "source": [
    "# Normalize\n",
    "scaler = MinMaxScaler()\n",
    "data_scaled = scaler.fit_transform(data)"
   ]
  },
  {
   "cell_type": "code",
   "execution_count": 5,
   "id": "172cea87",
   "metadata": {},
   "outputs": [],
   "source": [
    "# Create sequences\n",
    "def create_sequences(data, seq_len):\n",
    "    sequences = []\n",
    "    for i in range(len(data) - seq_len):\n",
    "        sequences.append(data[i:i+seq_len])\n",
    "    return np.array(sequences)\n",
    "\n",
    "SEQ_LEN = 24  # e.g., 24 hourly steps\n",
    "X = create_sequences(data_scaled, SEQ_LEN)"
   ]
  },
  {
   "cell_type": "code",
   "execution_count": 6,
   "id": "fabd2383",
   "metadata": {},
   "outputs": [],
   "source": [
    "# Convert to torch tensors\n",
    "X_tensor = torch.tensor(X, dtype=torch.float32)\n",
    "\n",
    "# Split into training and validation datasets\n",
    "X_train, X_val = train_test_split(X_tensor, test_size=0.1, shuffle=False)\n",
    "\n",
    "# DataLoader for batching\n",
    "train_loader = DataLoader(TensorDataset(X_train), batch_size=32, shuffle=True)\n",
    "val_loader = DataLoader(TensorDataset(X_val), batch_size=32, shuffle=False)"
   ]
  },
  {
   "cell_type": "code",
   "execution_count": 7,
   "id": "91aab8d5",
   "metadata": {},
   "outputs": [],
   "source": [
    "import torch.nn as nn\n",
    "import torch.optim as optim\n",
    "\n",
    "class LSTM_Autoencoder(nn.Module):\n",
    "    def __init__(self, input_dim, hidden_dim, seq_len):\n",
    "        super(LSTM_Autoencoder, self).__init__()\n",
    "        self.seq_len = seq_len\n",
    "        \n",
    "        # Encoder\n",
    "        self.encoder = nn.LSTM(input_dim, hidden_dim, batch_first=True)\n",
    "        \n",
    "        # Decoder\n",
    "        self.decoder = nn.LSTM(hidden_dim, input_dim, batch_first=True)\n",
    "        \n",
    "        self.fc = nn.Linear(input_dim, input_dim)\n",
    "    \n",
    "    def forward(self, x):\n",
    "        batch_size = x.size(0)\n",
    "\n",
    "        # Encoder\n",
    "        _, (hidden, _) = self.encoder(x)\n",
    "\n",
    "        # Repeat the hidden state SEQ_LEN times\n",
    "        decoder_input = hidden.repeat(self.seq_len, 1, 1).permute(1, 0, 2)  # [batch_size, seq_len, hidden_dim]\n",
    "\n",
    "        # Decoder\n",
    "        decoded, _ = self.decoder(decoder_input)\n",
    "\n",
    "        # Project back to original feature space\n",
    "        decoded = self.fc(decoded)\n",
    "        return decoded"
   ]
  },
  {
   "cell_type": "code",
   "execution_count": 8,
   "id": "80437912",
   "metadata": {},
   "outputs": [],
   "source": [
    "class EarlyStopping:\n",
    "    def __init__(self, patience=5, delta=0, verbose=False):\n",
    "        \"\"\"\n",
    "        patience: Number of epochs with no improvement after which training will be stopped\n",
    "        delta: Minimum change to qualify as an improvement\n",
    "        verbose: Whether to print messages when stopping\n",
    "        \"\"\"\n",
    "        self.patience = patience\n",
    "        self.delta = delta\n",
    "        self.verbose = verbose\n",
    "        self.best_loss = np.inf\n",
    "        self.counter = 0\n",
    "        self.stop_training = False\n",
    "\n",
    "    def __call__(self, val_loss):\n",
    "        \"\"\"\n",
    "        Calls the early stopping mechanism by checking if validation loss has improved\n",
    "        \"\"\"\n",
    "        if val_loss < self.best_loss - self.delta:\n",
    "            self.best_loss = val_loss\n",
    "            self.counter = 0  # Reset counter since we have improved\n",
    "        else:\n",
    "            self.counter += 1\n",
    "        \n",
    "        if self.counter >= self.patience:\n",
    "            self.stop_training = True\n",
    "            if self.verbose:\n",
    "                print(f\"Early stopping triggered after {self.patience} epochs without improvement.\")\n",
    "\n",
    "        return self.stop_training"
   ]
  },
  {
   "cell_type": "code",
   "execution_count": 9,
   "id": "ca29807e",
   "metadata": {},
   "outputs": [],
   "source": [
    "# Initialize model\n",
    "input_dim = X.shape[2]  # Number of features\n",
    "hidden_dim = 64  # Size of the LSTM hidden layer\n",
    "\n",
    "model = LSTM_Autoencoder(input_dim, hidden_dim, SEQ_LEN)"
   ]
  },
  {
   "cell_type": "code",
   "execution_count": 10,
   "id": "cc6cef75",
   "metadata": {},
   "outputs": [],
   "source": [
    "# Loss function and optimizer\n",
    "criterion = nn.MSELoss()\n",
    "optimizer = optim.Adam(model.parameters(), lr=0.001)\n",
    "\n"
   ]
  },
  {
   "cell_type": "code",
   "execution_count": 11,
   "id": "188d5c6a",
   "metadata": {},
   "outputs": [
    {
     "name": "stderr",
     "output_type": "stream",
     "text": [
      "C:\\Users\\josiw\\AppData\\Local\\Packages\\PythonSoftwareFoundation.Python.3.12_qbz5n2kfra8p0\\LocalCache\\local-packages\\Python312\\site-packages\\torch\\optim\\lr_scheduler.py:62: UserWarning: The verbose parameter is deprecated. Please use get_last_lr() to access the learning rate.\n",
      "  warnings.warn(\n"
     ]
    }
   ],
   "source": [
    "# Learning rate scheduler\n",
    "lr_scheduler = optim.lr_scheduler.ReduceLROnPlateau(optimizer, 'min', patience=5, factor=0.5, verbose=True)\n",
    "\n"
   ]
  },
  {
   "cell_type": "code",
   "execution_count": 12,
   "id": "1fca988d",
   "metadata": {},
   "outputs": [],
   "source": [
    "early_stopping = EarlyStopping(patience=5, delta=0.001, verbose=True)\n"
   ]
  },
  {
   "cell_type": "code",
   "execution_count": 13,
   "id": "62f567e9",
   "metadata": {},
   "outputs": [],
   "source": [
    "# Function to compute RMSE (Root Mean Squared Error)\n",
    "def rmse(y_true, y_pred):\n",
    "    return torch.sqrt(torch.mean((y_true - y_pred) ** 2))\n",
    "\n",
    "# Function to compute MAE (Mean Absolute Error)\n",
    "def mae(y_true, y_pred):\n",
    "    return torch.mean(torch.abs(y_true - y_pred))"
   ]
  },
  {
   "cell_type": "code",
   "execution_count": 14,
   "id": "625c667d",
   "metadata": {},
   "outputs": [],
   "source": [
    "# Training loop\n",
    "num_epochs = 50\n",
    "\n",
    "train_losses, val_losses, lrs, rmse_values, mae_values = [], [], [], [], []\n"
   ]
  },
  {
   "cell_type": "code",
   "execution_count": 15,
   "id": "a3ec91d9",
   "metadata": {},
   "outputs": [
    {
     "name": "stdout",
     "output_type": "stream",
     "text": [
      "Epoch [1/50], Train Loss: 0.0079, Val Loss: 0.0032\n",
      "\tRMSE (Train): 0.0562, RMSE (Val): 0.0551\n",
      "\tMAE (Train): 0.0340, MAE (Val): 0.0482\n",
      "Epoch [2/50], Train Loss: 0.0004, Val Loss: 0.0011\n",
      "\tRMSE (Train): 0.0193, RMSE (Val): 0.0312\n",
      "\tMAE (Train): 0.0096, MAE (Val): 0.0256\n",
      "Epoch [3/50], Train Loss: 0.0003, Val Loss: 0.0005\n",
      "\tRMSE (Train): 0.0168, RMSE (Val): 0.0203\n",
      "\tMAE (Train): 0.0076, MAE (Val): 0.0142\n",
      "Epoch [4/50], Train Loss: 0.0003, Val Loss: 0.0004\n",
      "\tRMSE (Train): 0.0163, RMSE (Val): 0.0174\n",
      "\tMAE (Train): 0.0072, MAE (Val): 0.0122\n",
      "Epoch [5/50], Train Loss: 0.0003, Val Loss: 0.0003\n",
      "\tRMSE (Train): 0.0161, RMSE (Val): 0.0171\n",
      "\tMAE (Train): 0.0069, MAE (Val): 0.0122\n",
      "Epoch [6/50], Train Loss: 0.0003, Val Loss: 0.0007\n",
      "\tRMSE (Train): 0.0165, RMSE (Val): 0.0243\n",
      "\tMAE (Train): 0.0074, MAE (Val): 0.0207\n",
      "Epoch [7/50], Train Loss: 0.0003, Val Loss: 0.0003\n",
      "\tRMSE (Train): 0.0159, RMSE (Val): 0.0162\n",
      "\tMAE (Train): 0.0065, MAE (Val): 0.0115\n",
      "Early stopping triggered after 5 epochs without improvement.\n",
      "Training stopped at epoch 7 due to early stopping.\n"
     ]
    }
   ],
   "source": [
    "for epoch in range(num_epochs):\n",
    "    model.train()\n",
    "    epoch_train_loss = 0.0\n",
    "    epoch_rmse = 0.0\n",
    "    epoch_mae = 0.0\n",
    "\n",
    "    lr = optimizer.param_groups[0]['lr']\n",
    "\n",
    "    for batch in train_loader:\n",
    "        X_batch = batch[0]\n",
    "        \n",
    "        # Forward pass\n",
    "        optimizer.zero_grad()\n",
    "        output = model(X_batch)\n",
    "        \n",
    "        # Compute loss\n",
    "        loss = criterion(output, X_batch)\n",
    "        \n",
    "\n",
    "        epoch_rmse += rmse(X_batch, output).item()\n",
    "        epoch_mae += mae(X_batch, output).item()\n",
    "        \n",
    "\n",
    "        # Backward pass\n",
    "        loss.backward()\n",
    "        optimizer.step()\n",
    "        \n",
    "        epoch_train_loss += loss.item()\n",
    "    \n",
    "\n",
    "    avg_train_loss = epoch_train_loss / len(train_loader)\n",
    "    avg_rmse = epoch_rmse / len(train_loader)\n",
    "    avg_mae = epoch_mae / len(train_loader)\n",
    "    \n",
    "    model.eval()\n",
    "    epoch_val_loss = 0.0\n",
    "    epoch_val_rmse = 0.0\n",
    "    epoch_val_mae = 0.0\n",
    "\n",
    "\n",
    "    with torch.no_grad():\n",
    "        for batch in val_loader:\n",
    "            X_batch = batch[0]\n",
    "            output = model(X_batch)\n",
    "\n",
    "            loss = criterion(output, X_batch)\n",
    "            epoch_val_loss += loss.item()\n",
    "            \n",
    "            # Compute validation RMSE and MAE\n",
    "            epoch_val_rmse += rmse(X_batch, output).item()\n",
    "            epoch_val_mae += mae(X_batch, output).item()\n",
    "    \n",
    "    avg_val_loss = epoch_val_loss / len(val_loader)\n",
    "    avg_val_rmse = epoch_val_rmse / len(val_loader)\n",
    "    avg_val_mae = epoch_val_mae / len(val_loader)\n",
    "\n",
    "    # Calculate the average loss\n",
    "    avg_train_loss = epoch_train_loss / len(train_loader)\n",
    "    \n",
    "    train_losses.append(avg_train_loss)\n",
    "    val_losses.append(avg_val_loss)\n",
    "    lrs.append(lr)\n",
    "    rmse_values.append(avg_val_rmse)\n",
    "    mae_values.append(avg_val_mae)\n",
    "    \n",
    "    # Step the learning rate scheduler\n",
    "    lr_scheduler.step(avg_val_loss)\n",
    "    \n",
    "    print(f'Epoch [{epoch+1}/{num_epochs}], Train Loss: {avg_train_loss:.4f}, Val Loss: {avg_val_loss:.4f}')\n",
    "    print(f'\\tRMSE (Train): {avg_rmse:.4f}, RMSE (Val): {avg_val_rmse:.4f}')\n",
    "    print(f'\\tMAE (Train): {avg_mae:.4f}, MAE (Val): {avg_val_mae:.4f}')    \n",
    "    \n",
    "    if early_stopping(avg_val_loss):\n",
    "        print(f\"Training stopped at epoch {epoch+1} due to early stopping.\")\n",
    "        break"
   ]
  },
  {
   "cell_type": "code",
   "execution_count": 16,
   "id": "3a802f81",
   "metadata": {},
   "outputs": [],
   "source": [
    "# Compute reconstruction error on validation set\n",
    "model.eval()\n",
    "reconstruction_errors = []\n",
    "with torch.no_grad():\n",
    "    for batch in val_loader:\n",
    "        X_batch = batch[0]\n",
    "        output = model(X_batch)\n",
    "        loss = torch.mean((output - X_batch) ** 2, dim=(1,2))  # MSE for each sequence\n",
    "        reconstruction_errors.extend(loss.numpy())\n",
    "\n",
    "num_sequences = len(X)\n",
    "\n",
    "# Get number of validation samples\n",
    "num_val = len(X_val)\n",
    "\n",
    "# Find the starting index in the original DataFrame\n",
    "val_start_idx = num_sequences - num_val\n",
    "\n",
    "# Align the original dataframe accordingly\n",
    "df_plot = df.iloc[SEQ_LEN + val_start_idx:].copy()\n",
    "\n",
    "# Add reconstruction errors\n",
    "df_plot['reconstruction_error'] = reconstruction_errors"
   ]
  },
  {
   "cell_type": "code",
   "execution_count": 17,
   "id": "8d202d8b",
   "metadata": {},
   "outputs": [
    {
     "data": {
      "image/png": "[encoded data removed]",
      "text/plain": [
       "<Figure size 1400x600 with 2 Axes>"
      ]
     },
     "metadata": {},
     "output_type": "display_data"
    }
   ],
   "source": [
    "plt.figure(figsize=(14, 6))\n",
    "plt.subplot(1, 2, 1)\n",
    "plt.plot(train_losses, label='Train Loss')\n",
    "plt.plot(val_losses, label='Validation Loss')\n",
    "plt.legend()\n",
    "plt.title('Losses')\n",
    "\n",
    "plt.subplot(1, 2, 2)\n",
    "plt.plot(lrs, label='Learning Rate')\n",
    "plt.plot(rmse_values, label='RMSE')\n",
    "plt.plot(mae_values, label='MAE')\n",
    "plt.legend()\n",
    "plt.title('LR, RMSE, MAE')\n",
    "plt.tight_layout()\n",
    "plt.show()"
   ]
  },
  {
   "cell_type": "code",
   "execution_count": 18,
   "id": "59aaf516",
   "metadata": {},
   "outputs": [],
   "source": [
    "model.eval()\n",
    "reconstructions = []\n",
    "errors = []\n",
    "\n",
    "with torch.no_grad():\n",
    "    for batch in DataLoader(TensorDataset(X_tensor), batch_size=32, shuffle=False):\n",
    "        X_batch = batch[0]\n",
    "        output = model(X_batch)\n",
    "        reconstructions.append(output)\n",
    "        \n",
    "        # Per-sequence error (MSE)\n",
    "        batch_errors = torch.mean((output - X_batch) ** 2, dim=(1, 2))  # mean over seq_len and features\n",
    "        errors.append(batch_errors)\n",
    "\n",
    "reconstructions = torch.cat(reconstructions)\n",
    "errors = torch.cat(errors).numpy()  # Shape: [num_sequences]\n"
   ]
  },
  {
   "cell_type": "code",
   "execution_count": 19,
   "id": "62cf90d1",
   "metadata": {},
   "outputs": [],
   "source": [
    "threshold = np.percentile(errors, 95)  # Top 5% as anomalies\n"
   ]
  },
  {
   "cell_type": "code",
   "execution_count": 20,
   "id": "90a74036",
   "metadata": {},
   "outputs": [],
   "source": [
    "anomalies = errors > threshold\n"
   ]
  },
  {
   "cell_type": "code",
   "execution_count": 21,
   "id": "941d455b",
   "metadata": {},
   "outputs": [
    {
     "data": {
      "image/png": "[encoded data removed]",
      "text/plain": [
       "<Figure size 1500x400 with 1 Axes>"
      ]
     },
     "metadata": {},
     "output_type": "display_data"
    }
   ],
   "source": [
    "import matplotlib.pyplot as plt\n",
    "\n",
    "timestamps = df['close_time'].values[SEQ_LEN:]  # align with sequences\n",
    "\n",
    "plt.figure(figsize=(15, 4))\n",
    "plt.plot(timestamps, errors, label=\"Reconstruction Error\")\n",
    "plt.axhline(y=threshold, color='r', linestyle='--', label=\"Threshold\")\n",
    "plt.fill_between(timestamps, 0, errors, where=anomalies, color='red', alpha=0.3, label=\"Anomalies\")\n",
    "plt.legend()\n",
    "plt.title(\"Anomaly Detection via LSTM Autoencoder\")\n",
    "plt.xlabel(\"Time\")\n",
    "plt.ylabel(\"Error\")\n",
    "plt.show()\n"
   ]
  },
  {
   "cell_type": "code",
   "execution_count": 22,
   "id": "52b2a3ee",
   "metadata": {},
   "outputs": [
    {
     "name": "stdout",
     "output_type": "stream",
     "text": [
      "Total anomalies detected: 1922\n"
     ]
    }
   ],
   "source": [
    "# Number of anomalies\n",
    "print(f\"Total anomalies detected: {np.sum(anomalies)}\")"
   ]
  },
  {
   "cell_type": "code",
   "execution_count": null,
   "id": "ea6686bd",
   "metadata": {},
   "outputs": [
    {
     "name": "stdout",
     "output_type": "stream",
     "text": [
      "Anomalies saved to lstm_autoencoder_anomalies.csv\n"
     ]
    }
   ],
   "source": [
    "close_index = df.columns.get_loc(\"close\") - 1  # adjust for SEQ_LEN offset\n",
    "\n",
    "recon_close = reconstructions[:, -1, close_index].numpy()\n",
    "actual_close = X_tensor[:, -1, close_index].numpy()\n",
    "\n",
    "# Save anomaly info\n",
    "base_index = SEQ_LEN  # offset for aligning with original df\n",
    "anomaly_df = df.iloc[base_index:][anomalies].copy()  # only anomalies\n",
    "\n",
    "anomaly_df['predicted_close'] = recon_close[anomalies]\n",
    "anomaly_df['actual_close'] = actual_close[anomalies]\n",
    "anomaly_df['abs_error'] = np.abs(anomaly_df['actual_close'] - anomaly_df['predicted_close'])\n",
    "\n",
    "anomaly_df.to_csv(\"results/lstm_autoencoder_anomalies.csv\", index=False)\n",
    "print(\"Anomalies saved to lstm_autoencoder_anomalies.csv\")"
   ]
  },
  {
   "cell_type": "code",
   "execution_count": null,
   "id": "7e57f6b5",
   "metadata": {},
   "outputs": [],
   "source": [
    "df2 = pd.read_csv(\"results/lstm_autoencoder_anomalies.csv\")"
   ]
  },
  {
   "cell_type": "code",
   "execution_count": 27,
   "id": "72dc815d",
   "metadata": {},
   "outputs": [
    {
     "data": {
      "application/vnd.microsoft.datawrangler.viewer.v0+json": {
       "columns": [
        {
         "name": "index",
         "rawType": "int64",
         "type": "integer"
        },
        {
         "name": "open",
         "rawType": "float64",
         "type": "float"
        },
        {
         "name": "high",
         "rawType": "float64",
         "type": "float"
        },
        {
         "name": "low",
         "rawType": "float64",
         "type": "float"
        },
        {
         "name": "close",
         "rawType": "float64",
         "type": "float"
        },
        {
         "name": "volume",
         "rawType": "float64",
         "type": "float"
        },
        {
         "name": "close_time",
         "rawType": "object",
         "type": "string"
        },
        {
         "name": "quote",
         "rawType": "float64",
         "type": "float"
        },
        {
         "name": "takers_buy_base",
         "rawType": "float64",
         "type": "float"
        },
        {
         "name": "takers_buy_quote",
         "rawType": "float64",
         "type": "float"
        },
        {
         "name": "predicted_close",
         "rawType": "float64",
         "type": "float"
        },
        {
         "name": "actual_close",
         "rawType": "float64",
         "type": "float"
        },
        {
         "name": "abs_error",
         "rawType": "float64",
         "type": "float"
        }
       ],
       "conversionMethod": "pd.DataFrame",
       "ref": "88e0216e-fcf2-4405-9d2d-564844eb2fa1",
       "rows": [
        [
         "0",
         "7686.93",
         "7739.8",
         "7627.0",
         "7683.18",
         "3525.785109",
         "2018-04-12 08:59:59.999000-05:00",
         "27100168.75596322",
         "1662.304104",
         "12783168.49650023",
         "0.066331625",
         "0.072413936",
         "0.0060823113"
        ],
        [
         "1",
         "7683.18",
         "7735.94",
         "7577.0",
         "7644.0",
         "2964.576258",
         "2018-04-12 09:59:59.999000-05:00",
         "22728795.69090939",
         "1410.340431",
         "10818352.82748815",
         "0.06744114",
         "0.073284976",
         "0.005843833"
        ],
        [
         "2",
         "7644.0",
         "7650.0",
         "7582.31",
         "7614.21",
         "2132.633589",
         "2018-04-12 10:59:59.999000-05:00",
         "16251647.87015787",
         "1214.426837",
         "9254197.75500371",
         "0.06815873",
         "0.07252318",
         "0.004364446"
        ],
        [
         "3",
         "7618.0",
         "7625.0",
         "7542.0",
         "7619.0",
         "2314.600659",
         "2018-04-12 11:59:59.999000-05:00",
         "17579942.68209593",
         "1212.220074",
         "9211533.93080974",
         "0.06878438",
         "0.07260408",
         "0.003819704"
        ],
        [
         "4",
         "7619.0",
         "7775.0",
         "7607.36",
         "7688.0",
         "3034.18377",
         "2018-04-12 12:59:59.999000-05:00",
         "23357822.41538867",
         "1622.83776",
         "12497107.9343999",
         "0.069284305",
         "0.071989916",
         "0.0027056113"
        ]
       ],
       "shape": {
        "columns": 12,
        "rows": 5
       }
      },
      "text/html": [
       "<div>\n",
       "<style scoped>\n",
       "    .dataframe tbody tr th:only-of-type {\n",
       "        vertical-align: middle;\n",
       "    }\n",
       "\n",
       "    .dataframe tbody tr th {\n",
       "        vertical-align: top;\n",
       "    }\n",
       "\n",
       "    .dataframe thead th {\n",
       "        text-align: right;\n",
       "    }\n",
       "</style>\n",
       "<table border=\"1\" class=\"dataframe\">\n",
       "  <thead>\n",
       "    <tr style=\"text-align: right;\">\n",
       "      <th></th>\n",
       "      <th>open</th>\n",
       "      <th>high</th>\n",
       "      <th>low</th>\n",
       "      <th>close</th>\n",
       "      <th>volume</th>\n",
       "      <th>close_time</th>\n",
       "      <th>quote</th>\n",
       "      <th>takers_buy_base</th>\n",
       "      <th>takers_buy_quote</th>\n",
       "      <th>predicted_close</th>\n",
       "      <th>actual_close</th>\n",
       "      <th>abs_error</th>\n",
       "    </tr>\n",
       "  </thead>\n",
       "  <tbody>\n",
       "    <tr>\n",
       "      <th>0</th>\n",
       "      <td>7686.93</td>\n",
       "      <td>7739.80</td>\n",
       "      <td>7627.00</td>\n",
       "      <td>7683.18</td>\n",
       "      <td>3525.785109</td>\n",
       "      <td>2018-04-12 08:59:59.999000-05:00</td>\n",
       "      <td>2.710017e+07</td>\n",
       "      <td>1662.304104</td>\n",
       "      <td>1.278317e+07</td>\n",
       "      <td>0.066332</td>\n",
       "      <td>0.072414</td>\n",
       "      <td>0.006082</td>\n",
       "    </tr>\n",
       "    <tr>\n",
       "      <th>1</th>\n",
       "      <td>7683.18</td>\n",
       "      <td>7735.94</td>\n",
       "      <td>7577.00</td>\n",
       "      <td>7644.00</td>\n",
       "      <td>2964.576258</td>\n",
       "      <td>2018-04-12 09:59:59.999000-05:00</td>\n",
       "      <td>2.272880e+07</td>\n",
       "      <td>1410.340431</td>\n",
       "      <td>1.081835e+07</td>\n",
       "      <td>0.067441</td>\n",
       "      <td>0.073285</td>\n",
       "      <td>0.005844</td>\n",
       "    </tr>\n",
       "    <tr>\n",
       "      <th>2</th>\n",
       "      <td>7644.00</td>\n",
       "      <td>7650.00</td>\n",
       "      <td>7582.31</td>\n",
       "      <td>7614.21</td>\n",
       "      <td>2132.633589</td>\n",
       "      <td>2018-04-12 10:59:59.999000-05:00</td>\n",
       "      <td>1.625165e+07</td>\n",
       "      <td>1214.426837</td>\n",
       "      <td>9.254198e+06</td>\n",
       "      <td>0.068159</td>\n",
       "      <td>0.072523</td>\n",
       "      <td>0.004364</td>\n",
       "    </tr>\n",
       "    <tr>\n",
       "      <th>3</th>\n",
       "      <td>7618.00</td>\n",
       "      <td>7625.00</td>\n",
       "      <td>7542.00</td>\n",
       "      <td>7619.00</td>\n",
       "      <td>2314.600659</td>\n",
       "      <td>2018-04-12 11:59:59.999000-05:00</td>\n",
       "      <td>1.757994e+07</td>\n",
       "      <td>1212.220074</td>\n",
       "      <td>9.211534e+06</td>\n",
       "      <td>0.068784</td>\n",
       "      <td>0.072604</td>\n",
       "      <td>0.003820</td>\n",
       "    </tr>\n",
       "    <tr>\n",
       "      <th>4</th>\n",
       "      <td>7619.00</td>\n",
       "      <td>7775.00</td>\n",
       "      <td>7607.36</td>\n",
       "      <td>7688.00</td>\n",
       "      <td>3034.183770</td>\n",
       "      <td>2018-04-12 12:59:59.999000-05:00</td>\n",
       "      <td>2.335782e+07</td>\n",
       "      <td>1622.837760</td>\n",
       "      <td>1.249711e+07</td>\n",
       "      <td>0.069284</td>\n",
       "      <td>0.071990</td>\n",
       "      <td>0.002706</td>\n",
       "    </tr>\n",
       "  </tbody>\n",
       "</table>\n",
       "</div>"
      ],
      "text/plain": [
       "      open     high      low    close       volume  \\\n",
       "0  7686.93  7739.80  7627.00  7683.18  3525.785109   \n",
       "1  7683.18  7735.94  7577.00  7644.00  2964.576258   \n",
       "2  7644.00  7650.00  7582.31  7614.21  2132.633589   \n",
       "3  7618.00  7625.00  7542.00  7619.00  2314.600659   \n",
       "4  7619.00  7775.00  7607.36  7688.00  3034.183770   \n",
       "\n",
       "                         close_time         quote  takers_buy_base  \\\n",
       "0  2018-04-12 08:59:59.999000-05:00  2.710017e+07      1662.304104   \n",
       "1  2018-04-12 09:59:59.999000-05:00  2.272880e+07      1410.340431   \n",
       "2  2018-04-12 10:59:59.999000-05:00  1.625165e+07      1214.426837   \n",
       "3  2018-04-12 11:59:59.999000-05:00  1.757994e+07      1212.220074   \n",
       "4  2018-04-12 12:59:59.999000-05:00  2.335782e+07      1622.837760   \n",
       "\n",
       "   takers_buy_quote  predicted_close  actual_close  abs_error  \n",
       "0      1.278317e+07         0.066332      0.072414   0.006082  \n",
       "1      1.081835e+07         0.067441      0.073285   0.005844  \n",
       "2      9.254198e+06         0.068159      0.072523   0.004364  \n",
       "3      9.211534e+06         0.068784      0.072604   0.003820  \n",
       "4      1.249711e+07         0.069284      0.071990   0.002706  "
      ]
     },
     "execution_count": 27,
     "metadata": {},
     "output_type": "execute_result"
    }
   ],
   "source": [
    "df2.head()"
   ]
  }
 ],
 "metadata": {
  "kernelspec": {
   "display_name": "Python 3",
   "language": "python",
   "name": "python3"
  },
  "language_info": {
   "codemirror_mode": {
    "name": "ipython",
    "version": 3
   },
   "file_extension": ".py",
   "mimetype": "text/x-python",
   "name": "python",
   "nbconvert_exporter": "python",
   "pygments_lexer": "ipython3",
   "version": "3.12.10"
  }
 },
 "nbformat": 4,
 "nbformat_minor": 5
}
