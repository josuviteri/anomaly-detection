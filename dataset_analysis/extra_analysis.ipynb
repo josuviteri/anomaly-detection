{
 "cells": [
  {
   "cell_type": "code",
   "execution_count": 1,
   "id": "426ed832",
   "metadata": {},
   "outputs": [
    {
     "name": "stdout",
     "output_type": "stream",
     "text": [
      "test\n"
     ]
    }
   ],
   "source": [
    "print(\"test\")"
   ]
  },
  {
   "cell_type": "code",
   "execution_count": null,
   "id": "e99929b0",
   "metadata": {},
   "outputs": [
    {
     "name": "stderr",
     "output_type": "stream",
     "text": [
      "Downloading...\n",
      "From: https://drive.google.com/uc?id=1ENSzYg3oMLSTqqzeB3pnD0GtGTLYdn1E\n",
      "To: c:\\Users\\josiw\\Documents\\unibertsitatea\\3.o\\2.o cuatri\\DeepLearning\\anomaly-detection\\dataset.zip\n",
      "100%|██████████| 1.95M/1.95M [00:00<00:00, 10.2MB/s]"
     ]
    },
    {
     "name": "stdout",
     "output_type": "stream",
     "text": [
      "✅ Extracted to: ./data\n"
     ]
    },
    {
     "name": "stderr",
     "output_type": "stream",
     "text": [
      "\n"
     ]
    }
   ],
   "source": [
    "import gdown\n",
    "import zipfile\n",
    "import os\n",
    "\n",
    "file_id = '1ENSzYg3oMLSTqqzeB3pnD0GtGTLYdn1E'\n",
    "download_url = f'https://drive.google.com/uc?id={file_id}'\n",
    "\n",
    "# Output zip filename\n",
    "output_zip = 'dataset.zip'\n",
    "\n",
    "# Download from Google Drive\n",
    "gdown.download(download_url, output_zip, quiet=False)\n",
    "\n",
    "# Unzip the file\n",
    "extract_path = './data'  # You can change this path as needed\n",
    "os.makedirs(extract_path, exist_ok=True)\n",
    "\n",
    "with zipfile.ZipFile(output_zip, 'r') as zip_ref:\n",
    "    zip_ref.extractall(extract_path)\n",
    "\n",
    "print(f\"Extracted to: {extract_path}\")\n"
   ]
  },
  {
   "cell_type": "code",
   "execution_count": 9,
   "id": "89e2e1fa",
   "metadata": {},
   "outputs": [],
   "source": [
    "import pandas as pd"
   ]
  },
  {
   "cell_type": "markdown",
   "id": "c4cc681b",
   "metadata": {},
   "source": [
    "# EDA Process\n",
    "## Pre-Processing"
   ]
  },
  {
   "cell_type": "code",
   "execution_count": 10,
   "id": "3036f60d",
   "metadata": {},
   "outputs": [],
   "source": [
    "df = pd.read_csv(\"./data/BTCUSDT_1h.csv\")"
   ]
  },
  {
   "cell_type": "code",
   "execution_count": 13,
   "id": "ecb24245",
   "metadata": {},
   "outputs": [
    {
     "name": "stdout",
     "output_type": "stream",
     "text": [
      "<class 'pandas.core.frame.DataFrame'>\n",
      "RangeIndex: 38461 entries, 0 to 38460\n",
      "Data columns (total 9 columns):\n",
      " #   Column            Non-Null Count  Dtype  \n",
      "---  ------            --------------  -----  \n",
      " 0   open              38461 non-null  float64\n",
      " 1   high              38461 non-null  float64\n",
      " 2   low               38461 non-null  float64\n",
      " 3   close             38461 non-null  float64\n",
      " 4   volume            38461 non-null  float64\n",
      " 5   close_time        38461 non-null  object \n",
      " 6   quote             38461 non-null  float64\n",
      " 7   takers_buy_base   38461 non-null  float64\n",
      " 8   takers_buy_quote  38461 non-null  float64\n",
      "dtypes: float64(8), object(1)\n",
      "memory usage: 2.6+ MB\n"
     ]
    }
   ],
   "source": [
    "df.info()"
   ]
  },
  {
   "cell_type": "code",
   "execution_count": 14,
   "id": "5bc030f1",
   "metadata": {},
   "outputs": [
    {
     "data": {
      "text/html": [
       "<div>\n",
       "<style scoped>\n",
       "    .dataframe tbody tr th:only-of-type {\n",
       "        vertical-align: middle;\n",
       "    }\n",
       "\n",
       "    .dataframe tbody tr th {\n",
       "        vertical-align: top;\n",
       "    }\n",
       "\n",
       "    .dataframe thead th {\n",
       "        text-align: right;\n",
       "    }\n",
       "</style>\n",
       "<table border=\"1\" class=\"dataframe\">\n",
       "  <thead>\n",
       "    <tr style=\"text-align: right;\">\n",
       "      <th></th>\n",
       "      <th>open</th>\n",
       "      <th>high</th>\n",
       "      <th>low</th>\n",
       "      <th>close</th>\n",
       "      <th>volume</th>\n",
       "      <th>quote</th>\n",
       "      <th>takers_buy_base</th>\n",
       "      <th>takers_buy_quote</th>\n",
       "    </tr>\n",
       "  </thead>\n",
       "  <tbody>\n",
       "    <tr>\n",
       "      <th>count</th>\n",
       "      <td>38461.000000</td>\n",
       "      <td>38461.000000</td>\n",
       "      <td>38461.000000</td>\n",
       "      <td>38461.000000</td>\n",
       "      <td>38461.000000</td>\n",
       "      <td>3.846100e+04</td>\n",
       "      <td>38461.000000</td>\n",
       "      <td>3.846100e+04</td>\n",
       "    </tr>\n",
       "    <tr>\n",
       "      <th>mean</th>\n",
       "      <td>17589.002805</td>\n",
       "      <td>17696.560219</td>\n",
       "      <td>17473.314191</td>\n",
       "      <td>17589.962025</td>\n",
       "      <td>2101.814189</td>\n",
       "      <td>4.369855e+07</td>\n",
       "      <td>1046.701701</td>\n",
       "      <td>2.159233e+07</td>\n",
       "    </tr>\n",
       "    <tr>\n",
       "      <th>std</th>\n",
       "      <td>17359.685254</td>\n",
       "      <td>17463.372583</td>\n",
       "      <td>17249.006318</td>\n",
       "      <td>17359.989729</td>\n",
       "      <td>2175.337360</td>\n",
       "      <td>7.080532e+07</td>\n",
       "      <td>1066.267302</td>\n",
       "      <td>3.481741e+07</td>\n",
       "    </tr>\n",
       "    <tr>\n",
       "      <th>min</th>\n",
       "      <td>2870.900000</td>\n",
       "      <td>2950.000000</td>\n",
       "      <td>2817.000000</td>\n",
       "      <td>2919.000000</td>\n",
       "      <td>0.000000</td>\n",
       "      <td>0.000000e+00</td>\n",
       "      <td>0.000000</td>\n",
       "      <td>0.000000e+00</td>\n",
       "    </tr>\n",
       "    <tr>\n",
       "      <th>25%</th>\n",
       "      <td>6726.000000</td>\n",
       "      <td>6752.760000</td>\n",
       "      <td>6695.490000</td>\n",
       "      <td>6726.110000</td>\n",
       "      <td>919.149470</td>\n",
       "      <td>7.125238e+06</td>\n",
       "      <td>470.170524</td>\n",
       "      <td>3.665090e+06</td>\n",
       "    </tr>\n",
       "    <tr>\n",
       "      <th>50%</th>\n",
       "      <td>9298.330000</td>\n",
       "      <td>9339.370000</td>\n",
       "      <td>9259.980000</td>\n",
       "      <td>9298.750000</td>\n",
       "      <td>1536.182670</td>\n",
       "      <td>1.545427e+07</td>\n",
       "      <td>773.216614</td>\n",
       "      <td>7.739254e+06</td>\n",
       "    </tr>\n",
       "    <tr>\n",
       "      <th>75%</th>\n",
       "      <td>19024.330000</td>\n",
       "      <td>19125.760000</td>\n",
       "      <td>18900.000000</td>\n",
       "      <td>19026.490000</td>\n",
       "      <td>2571.497519</td>\n",
       "      <td>5.187811e+07</td>\n",
       "      <td>1279.230445</td>\n",
       "      <td>2.529690e+07</td>\n",
       "    </tr>\n",
       "    <tr>\n",
       "      <th>max</th>\n",
       "      <td>68635.120000</td>\n",
       "      <td>69000.000000</td>\n",
       "      <td>68451.190000</td>\n",
       "      <td>68633.690000</td>\n",
       "      <td>47255.762685</td>\n",
       "      <td>1.514465e+09</td>\n",
       "      <td>20628.794047</td>\n",
       "      <td>6.849674e+08</td>\n",
       "    </tr>\n",
       "  </tbody>\n",
       "</table>\n",
       "</div>"
      ],
      "text/plain": [
       "               open          high           low         close        volume  \\\n",
       "count  38461.000000  38461.000000  38461.000000  38461.000000  38461.000000   \n",
       "mean   17589.002805  17696.560219  17473.314191  17589.962025   2101.814189   \n",
       "std    17359.685254  17463.372583  17249.006318  17359.989729   2175.337360   \n",
       "min     2870.900000   2950.000000   2817.000000   2919.000000      0.000000   \n",
       "25%     6726.000000   6752.760000   6695.490000   6726.110000    919.149470   \n",
       "50%     9298.330000   9339.370000   9259.980000   9298.750000   1536.182670   \n",
       "75%    19024.330000  19125.760000  18900.000000  19026.490000   2571.497519   \n",
       "max    68635.120000  69000.000000  68451.190000  68633.690000  47255.762685   \n",
       "\n",
       "              quote  takers_buy_base  takers_buy_quote  \n",
       "count  3.846100e+04     38461.000000      3.846100e+04  \n",
       "mean   4.369855e+07      1046.701701      2.159233e+07  \n",
       "std    7.080532e+07      1066.267302      3.481741e+07  \n",
       "min    0.000000e+00         0.000000      0.000000e+00  \n",
       "25%    7.125238e+06       470.170524      3.665090e+06  \n",
       "50%    1.545427e+07       773.216614      7.739254e+06  \n",
       "75%    5.187811e+07      1279.230445      2.529690e+07  \n",
       "max    1.514465e+09     20628.794047      6.849674e+08  "
      ]
     },
     "execution_count": 14,
     "metadata": {},
     "output_type": "execute_result"
    }
   ],
   "source": [
    "df.describe()"
   ]
  },
  {
   "cell_type": "code",
   "execution_count": 11,
   "id": "a92079d8",
   "metadata": {},
   "outputs": [
    {
     "data": {
      "text/html": [
       "<div>\n",
       "<style scoped>\n",
       "    .dataframe tbody tr th:only-of-type {\n",
       "        vertical-align: middle;\n",
       "    }\n",
       "\n",
       "    .dataframe tbody tr th {\n",
       "        vertical-align: top;\n",
       "    }\n",
       "\n",
       "    .dataframe thead th {\n",
       "        text-align: right;\n",
       "    }\n",
       "</style>\n",
       "<table border=\"1\" class=\"dataframe\">\n",
       "  <thead>\n",
       "    <tr style=\"text-align: right;\">\n",
       "      <th></th>\n",
       "      <th>open</th>\n",
       "      <th>high</th>\n",
       "      <th>low</th>\n",
       "      <th>close</th>\n",
       "      <th>volume</th>\n",
       "      <th>close_time</th>\n",
       "      <th>quote</th>\n",
       "      <th>takers_buy_base</th>\n",
       "      <th>takers_buy_quote</th>\n",
       "    </tr>\n",
       "  </thead>\n",
       "  <tbody>\n",
       "    <tr>\n",
       "      <th>0</th>\n",
       "      <td>4261.48</td>\n",
       "      <td>4313.62</td>\n",
       "      <td>4261.32</td>\n",
       "      <td>4308.83</td>\n",
       "      <td>47.181009</td>\n",
       "      <td>2017-08-16 23:59:59.999000-05:00</td>\n",
       "      <td>202366.138393</td>\n",
       "      <td>35.160503</td>\n",
       "      <td>150952.477943</td>\n",
       "    </tr>\n",
       "    <tr>\n",
       "      <th>1</th>\n",
       "      <td>4308.83</td>\n",
       "      <td>4328.69</td>\n",
       "      <td>4291.37</td>\n",
       "      <td>4315.32</td>\n",
       "      <td>23.234916</td>\n",
       "      <td>2017-08-17 00:59:59.999000-05:00</td>\n",
       "      <td>100304.823567</td>\n",
       "      <td>21.448071</td>\n",
       "      <td>92608.279728</td>\n",
       "    </tr>\n",
       "    <tr>\n",
       "      <th>2</th>\n",
       "      <td>4330.29</td>\n",
       "      <td>4345.45</td>\n",
       "      <td>4309.37</td>\n",
       "      <td>4324.35</td>\n",
       "      <td>7.229691</td>\n",
       "      <td>2017-08-17 01:59:59.999000-05:00</td>\n",
       "      <td>31282.312670</td>\n",
       "      <td>4.802861</td>\n",
       "      <td>20795.317224</td>\n",
       "    </tr>\n",
       "    <tr>\n",
       "      <th>3</th>\n",
       "      <td>4316.62</td>\n",
       "      <td>4349.99</td>\n",
       "      <td>4287.41</td>\n",
       "      <td>4349.99</td>\n",
       "      <td>4.443249</td>\n",
       "      <td>2017-08-17 02:59:59.999000-05:00</td>\n",
       "      <td>19241.058300</td>\n",
       "      <td>2.602292</td>\n",
       "      <td>11291.347015</td>\n",
       "    </tr>\n",
       "    <tr>\n",
       "      <th>4</th>\n",
       "      <td>4333.32</td>\n",
       "      <td>4377.85</td>\n",
       "      <td>4333.32</td>\n",
       "      <td>4360.69</td>\n",
       "      <td>0.972807</td>\n",
       "      <td>2017-08-17 03:59:59.999000-05:00</td>\n",
       "      <td>4239.503586</td>\n",
       "      <td>0.814655</td>\n",
       "      <td>3552.746817</td>\n",
       "    </tr>\n",
       "  </tbody>\n",
       "</table>\n",
       "</div>"
      ],
      "text/plain": [
       "      open     high      low    close     volume  \\\n",
       "0  4261.48  4313.62  4261.32  4308.83  47.181009   \n",
       "1  4308.83  4328.69  4291.37  4315.32  23.234916   \n",
       "2  4330.29  4345.45  4309.37  4324.35   7.229691   \n",
       "3  4316.62  4349.99  4287.41  4349.99   4.443249   \n",
       "4  4333.32  4377.85  4333.32  4360.69   0.972807   \n",
       "\n",
       "                         close_time          quote  takers_buy_base  \\\n",
       "0  2017-08-16 23:59:59.999000-05:00  202366.138393        35.160503   \n",
       "1  2017-08-17 00:59:59.999000-05:00  100304.823567        21.448071   \n",
       "2  2017-08-17 01:59:59.999000-05:00   31282.312670         4.802861   \n",
       "3  2017-08-17 02:59:59.999000-05:00   19241.058300         2.602292   \n",
       "4  2017-08-17 03:59:59.999000-05:00    4239.503586         0.814655   \n",
       "\n",
       "   takers_buy_quote  \n",
       "0     150952.477943  \n",
       "1      92608.279728  \n",
       "2      20795.317224  \n",
       "3      11291.347015  \n",
       "4       3552.746817  "
      ]
     },
     "execution_count": 11,
     "metadata": {},
     "output_type": "execute_result"
    }
   ],
   "source": [
    "df.head()"
   ]
  },
  {
   "cell_type": "code",
   "execution_count": 12,
   "id": "81943e88",
   "metadata": {},
   "outputs": [
    {
     "data": {
      "text/plain": [
       "(38461, 9)"
      ]
     },
     "execution_count": 12,
     "metadata": {},
     "output_type": "execute_result"
    }
   ],
   "source": [
    "df.shape"
   ]
  },
  {
   "cell_type": "code",
   "execution_count": 15,
   "id": "db5d9db1",
   "metadata": {},
   "outputs": [
    {
     "data": {
      "text/plain": [
       "('2017-08-16 23:59:59.999000-05:00', '2022-01-10 17:59:59.999000-05:00')"
      ]
     },
     "execution_count": 15,
     "metadata": {},
     "output_type": "execute_result"
    }
   ],
   "source": [
    "df[\"close_time\"].min(), df[\"close_time\"].max()\n"
   ]
  },
  {
   "cell_type": "code",
   "execution_count": 16,
   "id": "21c5af59",
   "metadata": {},
   "outputs": [
    {
     "data": {
      "text/html": [
       "<div>\n",
       "<style scoped>\n",
       "    .dataframe tbody tr th:only-of-type {\n",
       "        vertical-align: middle;\n",
       "    }\n",
       "\n",
       "    .dataframe tbody tr th {\n",
       "        vertical-align: top;\n",
       "    }\n",
       "\n",
       "    .dataframe thead th {\n",
       "        text-align: right;\n",
       "    }\n",
       "</style>\n",
       "<table border=\"1\" class=\"dataframe\">\n",
       "  <thead>\n",
       "    <tr style=\"text-align: right;\">\n",
       "      <th></th>\n",
       "      <th>open</th>\n",
       "      <th>high</th>\n",
       "      <th>low</th>\n",
       "      <th>close</th>\n",
       "      <th>volume</th>\n",
       "      <th>close_time</th>\n",
       "      <th>quote</th>\n",
       "      <th>takers_buy_base</th>\n",
       "      <th>takers_buy_quote</th>\n",
       "    </tr>\n",
       "  </thead>\n",
       "  <tbody>\n",
       "    <tr>\n",
       "      <th>0</th>\n",
       "      <td>4261.48</td>\n",
       "      <td>4313.62</td>\n",
       "      <td>4261.32</td>\n",
       "      <td>4308.83</td>\n",
       "      <td>47.181009</td>\n",
       "      <td>2017-08-16 23:59:59.999</td>\n",
       "      <td>2.023661e+05</td>\n",
       "      <td>35.160503</td>\n",
       "      <td>1.509525e+05</td>\n",
       "    </tr>\n",
       "    <tr>\n",
       "      <th>1</th>\n",
       "      <td>4308.83</td>\n",
       "      <td>4328.69</td>\n",
       "      <td>4291.37</td>\n",
       "      <td>4315.32</td>\n",
       "      <td>23.234916</td>\n",
       "      <td>2017-08-17 00:59:59.999</td>\n",
       "      <td>1.003048e+05</td>\n",
       "      <td>21.448071</td>\n",
       "      <td>9.260828e+04</td>\n",
       "    </tr>\n",
       "    <tr>\n",
       "      <th>2</th>\n",
       "      <td>4330.29</td>\n",
       "      <td>4345.45</td>\n",
       "      <td>4309.37</td>\n",
       "      <td>4324.35</td>\n",
       "      <td>7.229691</td>\n",
       "      <td>2017-08-17 01:59:59.999</td>\n",
       "      <td>3.128231e+04</td>\n",
       "      <td>4.802861</td>\n",
       "      <td>2.079532e+04</td>\n",
       "    </tr>\n",
       "    <tr>\n",
       "      <th>3</th>\n",
       "      <td>4316.62</td>\n",
       "      <td>4349.99</td>\n",
       "      <td>4287.41</td>\n",
       "      <td>4349.99</td>\n",
       "      <td>4.443249</td>\n",
       "      <td>2017-08-17 02:59:59.999</td>\n",
       "      <td>1.924106e+04</td>\n",
       "      <td>2.602292</td>\n",
       "      <td>1.129135e+04</td>\n",
       "    </tr>\n",
       "    <tr>\n",
       "      <th>4</th>\n",
       "      <td>4333.32</td>\n",
       "      <td>4377.85</td>\n",
       "      <td>4333.32</td>\n",
       "      <td>4360.69</td>\n",
       "      <td>0.972807</td>\n",
       "      <td>2017-08-17 03:59:59.999</td>\n",
       "      <td>4.239504e+03</td>\n",
       "      <td>0.814655</td>\n",
       "      <td>3.552747e+03</td>\n",
       "    </tr>\n",
       "    <tr>\n",
       "      <th>...</th>\n",
       "      <td>...</td>\n",
       "      <td>...</td>\n",
       "      <td>...</td>\n",
       "      <td>...</td>\n",
       "      <td>...</td>\n",
       "      <td>...</td>\n",
       "      <td>...</td>\n",
       "      <td>...</td>\n",
       "      <td>...</td>\n",
       "    </tr>\n",
       "    <tr>\n",
       "      <th>38456</th>\n",
       "      <td>41184.44</td>\n",
       "      <td>41723.87</td>\n",
       "      <td>41118.36</td>\n",
       "      <td>41604.58</td>\n",
       "      <td>1816.054560</td>\n",
       "      <td>2022-01-10 13:59:59.999</td>\n",
       "      <td>7.523858e+07</td>\n",
       "      <td>968.387390</td>\n",
       "      <td>4.012530e+07</td>\n",
       "    </tr>\n",
       "    <tr>\n",
       "      <th>38457</th>\n",
       "      <td>41604.58</td>\n",
       "      <td>41698.07</td>\n",
       "      <td>41205.65</td>\n",
       "      <td>41297.15</td>\n",
       "      <td>1358.541170</td>\n",
       "      <td>2022-01-10 14:59:59.999</td>\n",
       "      <td>5.637205e+07</td>\n",
       "      <td>690.382540</td>\n",
       "      <td>2.864461e+07</td>\n",
       "    </tr>\n",
       "    <tr>\n",
       "      <th>38458</th>\n",
       "      <td>41297.15</td>\n",
       "      <td>41779.46</td>\n",
       "      <td>41158.99</td>\n",
       "      <td>41714.72</td>\n",
       "      <td>1245.440490</td>\n",
       "      <td>2022-01-10 15:59:59.999</td>\n",
       "      <td>5.161796e+07</td>\n",
       "      <td>642.619620</td>\n",
       "      <td>2.663620e+07</td>\n",
       "    </tr>\n",
       "    <tr>\n",
       "      <th>38459</th>\n",
       "      <td>41716.81</td>\n",
       "      <td>41985.00</td>\n",
       "      <td>41562.38</td>\n",
       "      <td>41714.13</td>\n",
       "      <td>1365.382650</td>\n",
       "      <td>2022-01-10 16:59:59.999</td>\n",
       "      <td>5.703537e+07</td>\n",
       "      <td>724.557670</td>\n",
       "      <td>3.026707e+07</td>\n",
       "    </tr>\n",
       "    <tr>\n",
       "      <th>38460</th>\n",
       "      <td>41714.14</td>\n",
       "      <td>41849.45</td>\n",
       "      <td>41500.00</td>\n",
       "      <td>41616.08</td>\n",
       "      <td>720.491920</td>\n",
       "      <td>2022-01-10 17:59:59.999</td>\n",
       "      <td>3.002845e+07</td>\n",
       "      <td>332.233130</td>\n",
       "      <td>1.384667e+07</td>\n",
       "    </tr>\n",
       "  </tbody>\n",
       "</table>\n",
       "<p>38461 rows × 9 columns</p>\n",
       "</div>"
      ],
      "text/plain": [
       "           open      high       low     close       volume  \\\n",
       "0       4261.48   4313.62   4261.32   4308.83    47.181009   \n",
       "1       4308.83   4328.69   4291.37   4315.32    23.234916   \n",
       "2       4330.29   4345.45   4309.37   4324.35     7.229691   \n",
       "3       4316.62   4349.99   4287.41   4349.99     4.443249   \n",
       "4       4333.32   4377.85   4333.32   4360.69     0.972807   \n",
       "...         ...       ...       ...       ...          ...   \n",
       "38456  41184.44  41723.87  41118.36  41604.58  1816.054560   \n",
       "38457  41604.58  41698.07  41205.65  41297.15  1358.541170   \n",
       "38458  41297.15  41779.46  41158.99  41714.72  1245.440490   \n",
       "38459  41716.81  41985.00  41562.38  41714.13  1365.382650   \n",
       "38460  41714.14  41849.45  41500.00  41616.08   720.491920   \n",
       "\n",
       "                   close_time         quote  takers_buy_base  takers_buy_quote  \n",
       "0     2017-08-16 23:59:59.999  2.023661e+05        35.160503      1.509525e+05  \n",
       "1     2017-08-17 00:59:59.999  1.003048e+05        21.448071      9.260828e+04  \n",
       "2     2017-08-17 01:59:59.999  3.128231e+04         4.802861      2.079532e+04  \n",
       "3     2017-08-17 02:59:59.999  1.924106e+04         2.602292      1.129135e+04  \n",
       "4     2017-08-17 03:59:59.999  4.239504e+03         0.814655      3.552747e+03  \n",
       "...                       ...           ...              ...               ...  \n",
       "38456 2022-01-10 13:59:59.999  7.523858e+07       968.387390      4.012530e+07  \n",
       "38457 2022-01-10 14:59:59.999  5.637205e+07       690.382540      2.864461e+07  \n",
       "38458 2022-01-10 15:59:59.999  5.161796e+07       642.619620      2.663620e+07  \n",
       "38459 2022-01-10 16:59:59.999  5.703537e+07       724.557670      3.026707e+07  \n",
       "38460 2022-01-10 17:59:59.999  3.002845e+07       332.233130      1.384667e+07  \n",
       "\n",
       "[38461 rows x 9 columns]"
      ]
     },
     "execution_count": 16,
     "metadata": {},
     "output_type": "execute_result"
    }
   ],
   "source": [
    "# Removing the localization in 'close_time'\n",
    "df['close_time'] = pd.to_datetime(df['close_time'], errors='coerce')\n",
    "df['close_time'] = df['close_time'].dt.tz_localize(None)\n",
    "df"
   ]
  },
  {
   "cell_type": "markdown",
   "id": "3e14e08e",
   "metadata": {},
   "source": [
    "Data Visualization"
   ]
  },
  {
   "cell_type": "code",
   "execution_count": null,
   "id": "f2a52991",
   "metadata": {},
   "outputs": [],
   "source": []
  },
  {
   "cell_type": "markdown",
   "id": "04a261e2",
   "metadata": {},
   "source": [
    "Timestamp and Periods"
   ]
  },
  {
   "cell_type": "code",
   "execution_count": null,
   "id": "885fa98e",
   "metadata": {},
   "outputs": [],
   "source": []
  },
  {
   "cell_type": "markdown",
   "id": "7dbb9471",
   "metadata": {},
   "source": [
    "Date range"
   ]
  },
  {
   "cell_type": "markdown",
   "id": "d36f3230",
   "metadata": {},
   "source": [
    " to_datetime"
   ]
  },
  {
   "cell_type": "markdown",
   "id": "624b45ef",
   "metadata": {},
   "source": [
    " Shifting and lags"
   ]
  },
  {
   "cell_type": "markdown",
   "id": "29dd307e",
   "metadata": {},
   "source": [
    " Resampling"
   ]
  },
  {
   "cell_type": "markdown",
   "id": "273028c0",
   "metadata": {},
   "source": [
    "### Finance and statistics"
   ]
  },
  {
   "cell_type": "markdown",
   "id": "9145b2b2",
   "metadata": {},
   "source": [
    "percent change"
   ]
  },
  {
   "cell_type": "markdown",
   "id": "a7583d25",
   "metadata": {},
   "source": [
    "stock returns"
   ]
  },
  {
   "cell_type": "markdown",
   "id": "30afdc17",
   "metadata": {},
   "source": [
    "absolute change in succesive rows  "
   ]
  },
  {
   "cell_type": "markdown",
   "id": "61954a7d",
   "metadata": {},
   "source": [
    "comparing two or more time series"
   ]
  },
  {
   "cell_type": "markdown",
   "id": "35217109",
   "metadata": {},
   "source": [
    "window functions"
   ]
  },
  {
   "cell_type": "markdown",
   "id": "9759d03d",
   "metadata": {},
   "source": [
    "ohlc"
   ]
  },
  {
   "cell_type": "markdown",
   "id": "41966b30",
   "metadata": {},
   "source": [
    "candkestick charts"
   ]
  },
  {
   "cell_type": "markdown",
   "id": "3d144cf6",
   "metadata": {},
   "source": [
    "autocorrelation "
   ]
  },
  {
   "cell_type": "markdown",
   "id": "2053db54",
   "metadata": {},
   "source": [
    "partial autocorrelation"
   ]
  },
  {
   "cell_type": "markdown",
   "id": "fd9a8c8b",
   "metadata": {},
   "source": [
    "### Time series decomposition and Random walks"
   ]
  },
  {
   "cell_type": "markdown",
   "id": "eb3233f2",
   "metadata": {},
   "source": [
    "Trends "
   ]
  },
  {
   "cell_type": "markdown",
   "id": "abe41cd8",
   "metadata": {},
   "source": [
    "Seasonality"
   ]
  },
  {
   "cell_type": "markdown",
   "id": "61d2aa60",
   "metadata": {},
   "source": [
    "White noise"
   ]
  },
  {
   "cell_type": "markdown",
   "id": "1c7fb863",
   "metadata": {},
   "source": [
    "Random Walk"
   ]
  },
  {
   "cell_type": "markdown",
   "id": "340ef9a3",
   "metadata": {},
   "source": [
    "Stationarity"
   ]
  },
  {
   "cell_type": "markdown",
   "id": "1d77d9f3",
   "metadata": {},
   "source": [
    "### Modelling"
   ]
  },
  {
   "cell_type": "markdown",
   "id": "0ec4b0a7",
   "metadata": {},
   "source": [
    "AR models"
   ]
  },
  {
   "cell_type": "markdown",
   "id": "074d91e0",
   "metadata": {},
   "source": [
    "Simulating"
   ]
  },
  {
   "cell_type": "markdown",
   "id": "c5cf6287",
   "metadata": {},
   "source": [
    "Forecasting a simulated model"
   ]
  },
  {
   "cell_type": "markdown",
   "id": "1748d0c9",
   "metadata": {},
   "source": [
    "Predicting the models"
   ]
  },
  {
   "cell_type": "markdown",
   "id": "0405b202",
   "metadata": {},
   "source": [
    "MA models"
   ]
  },
  {
   "cell_type": "markdown",
   "id": "e5c176ea",
   "metadata": {},
   "source": [
    "simulating models"
   ]
  },
  {
   "cell_type": "markdown",
   "id": "48c6379d",
   "metadata": {},
   "source": [
    "Forecasting the simulated models"
   ]
  },
  {
   "cell_type": "markdown",
   "id": "a4e13442",
   "metadata": {},
   "source": [
    "Prediction using MA models"
   ]
  },
  {
   "cell_type": "markdown",
   "id": "6e196b72",
   "metadata": {},
   "source": [
    "ARIMA models"
   ]
  },
  {
   "cell_type": "markdown",
   "id": "89ef7d2b",
   "metadata": {},
   "source": [
    "VAR models"
   ]
  },
  {
   "cell_type": "markdown",
   "id": "3091a171",
   "metadata": {},
   "source": [
    "State Space models"
   ]
  },
  {
   "cell_type": "markdown",
   "id": "2cfdd9a5",
   "metadata": {},
   "source": [
    "SARIMA models"
   ]
  },
  {
   "cell_type": "markdown",
   "id": "be3bef3a",
   "metadata": {},
   "source": [
    "Unobserved components"
   ]
  },
  {
   "cell_type": "markdown",
   "id": "d05f932e",
   "metadata": {},
   "source": [
    "Dynamic Factor models"
   ]
  }
 ],
 "metadata": {
  "kernelspec": {
   "display_name": "Python 3",
   "language": "python",
   "name": "python3"
  },
  "language_info": {
   "codemirror_mode": {
    "name": "ipython",
    "version": 3
   },
   "file_extension": ".py",
   "mimetype": "text/x-python",
   "name": "python",
   "nbconvert_exporter": "python",
   "pygments_lexer": "ipython3",
   "version": "3.12.10"
  }
 },
 "nbformat": 4,
 "nbformat_minor": 5
}
